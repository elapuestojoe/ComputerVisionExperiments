{
 "cells": [
  {
   "cell_type": "markdown",
   "metadata": {},
   "source": [
    "# Computer Vision\n",
    "\n",
    "Dr. José Gerardo Tamez Peña  \n",
    "Kevin Islas Abud\n",
    "A01372023  \n",
    "November 5, 2018"
   ]
  },
  {
   "cell_type": "markdown",
   "metadata": {},
   "source": [
    "## Classifiers Validation"
   ]
  },
  {
   "cell_type": "markdown",
   "metadata": {},
   "source": [
    "## Load data"
   ]
  },
  {
   "cell_type": "code",
   "execution_count": 1,
   "metadata": {},
   "outputs": [
    {
     "name": "stdout",
     "output_type": "stream",
     "text": [
      "       0       1       2       3       4       5       6       7       8   \\\n",
      "0  0.0200  0.0371  0.0428  0.0207  0.0954  0.0986  0.1539  0.1601  0.3109   \n",
      "1  0.0453  0.0523  0.0843  0.0689  0.1183  0.2583  0.2156  0.3481  0.3337   \n",
      "2  0.0262  0.0582  0.1099  0.1083  0.0974  0.2280  0.2431  0.3771  0.5598   \n",
      "3  0.0100  0.0171  0.0623  0.0205  0.0205  0.0368  0.1098  0.1276  0.0598   \n",
      "4  0.0762  0.0666  0.0481  0.0394  0.0590  0.0649  0.1209  0.2467  0.3564   \n",
      "\n",
      "       9    ...        50      51      52      53      54      55      56  \\\n",
      "0  0.2111   ...    0.0232  0.0027  0.0065  0.0159  0.0072  0.0167  0.0180   \n",
      "1  0.2872   ...    0.0125  0.0084  0.0089  0.0048  0.0094  0.0191  0.0140   \n",
      "2  0.6194   ...    0.0033  0.0232  0.0166  0.0095  0.0180  0.0244  0.0316   \n",
      "3  0.1264   ...    0.0241  0.0121  0.0036  0.0150  0.0085  0.0073  0.0050   \n",
      "4  0.4459   ...    0.0156  0.0031  0.0054  0.0105  0.0110  0.0015  0.0072   \n",
      "\n",
      "       57      58      59  \n",
      "0  0.0084  0.0090  0.0032  \n",
      "1  0.0049  0.0052  0.0044  \n",
      "2  0.0164  0.0095  0.0078  \n",
      "3  0.0044  0.0040  0.0117  \n",
      "4  0.0048  0.0107  0.0094  \n",
      "\n",
      "[5 rows x 60 columns]\n",
      "['M' 'R']\n",
      "(208, 60)\n",
      "(208,)\n"
     ]
    }
   ],
   "source": [
    "import pandas as pd\n",
    "\n",
    "db = pd.read_csv(\"sonar.all-data.csv\", header=None)\n",
    "x = db.drop(60, axis=1)\n",
    "y = db[60]\n",
    "print(x.head())\n",
    "\n",
    "#Label encode \n",
    "from sklearn import preprocessing\n",
    "labelEncoder = preprocessing.LabelEncoder()\n",
    "labelEncoder.fit(y)\n",
    "print(labelEncoder.classes_)\n",
    "yEncoded = labelEncoder.transform(y)\n",
    "\n",
    "print(x.shape)\n",
    "print(y.shape)\n",
    "\n",
    "x = x.values\n",
    "y = yEncoded\n"
   ]
  },
  {
   "cell_type": "code",
   "execution_count": 2,
   "metadata": {
    "collapsed": true
   },
   "outputs": [],
   "source": [
    "results = {}"
   ]
  },
  {
   "cell_type": "code",
   "execution_count": 3,
   "metadata": {
    "collapsed": true
   },
   "outputs": [],
   "source": [
    "from sklearn import svm\n",
    "from sklearn.naive_bayes import GaussianNB\n",
    "from sklearn.discriminant_analysis import LinearDiscriminantAnalysis\n",
    "from sklearn.neighbors import KNeighborsClassifier\n",
    "def getModels():\n",
    "    models = {}\n",
    "    models[\"SVC\"] = svm.SVC()\n",
    "    models[\"NaiveBayes\"] = GaussianNB()\n",
    "    models[\"LDA\"] = LinearDiscriminantAnalysis(solver=\"svd\")\n",
    "    models[\"KNN\"] = KNeighborsClassifier()\n",
    "    return models"
   ]
  },
  {
   "cell_type": "markdown",
   "metadata": {},
   "source": [
    "## Leave One Out"
   ]
  },
  {
   "cell_type": "code",
   "execution_count": 4,
   "metadata": {},
   "outputs": [],
   "source": [
    "from sklearn.model_selection import LeaveOneOut\n",
    "import numpy as np\n",
    "def ScoreUsingLOO(model):\n",
    "\n",
    "    loo = LeaveOneOut()\n",
    "    samples = loo.get_n_splits(x)\n",
    "    points = 0\n",
    "    for train_index, test_index in loo.split(x):\n",
    "        xTrain, xTest = x[train_index],  x[test_index]\n",
    "        yTrain, yTest = y[train_index], y[test_index]\n",
    "\n",
    "\n",
    "        model.fit(xTrain, yTrain)\n",
    "        points += model.score(xTest, yTest)\n",
    "\n",
    "    return points/samples"
   ]
  },
  {
   "cell_type": "code",
   "execution_count": 5,
   "metadata": {},
   "outputs": [
    {
     "name": "stdout",
     "output_type": "stream",
     "text": [
      "SVC 0.668269230769\n",
      "NaiveBayes 0.673076923077\n",
      "LDA 0.754807692308\n",
      "KNN 0.826923076923\n"
     ]
    },
    {
     "data": {
      "image/png": "[encoded data removed]",
      "text/plain": [
       "<matplotlib.figure.Figure at 0x289e4e49898>"
      ]
     },
     "metadata": {},
     "output_type": "display_data"
    }
   ],
   "source": [
    "models = getModels()\n",
    "results[\"LOO\"] = {}\n",
    "for model in models.keys():\n",
    "    results[\"LOO\"][model] = ScoreUsingLOO(models[model])\n",
    "    print(model, results[\"LOO\"][model])\n",
    "\n",
    "\n",
    "import matplotlib.pyplot as plt\n",
    "plt.bar(range(len(results[\"LOO\"])), list(results[\"LOO\"].values()))\n",
    "plt.xticks(range(len(results[\"LOO\"])), list(results[\"LOO\"].keys()))\n",
    "plt.show()"
   ]
  },
  {
   "cell_type": "markdown",
   "metadata": {},
   "source": [
    "## Cross Validation"
   ]
  },
  {
   "cell_type": "code",
   "execution_count": 6,
   "metadata": {},
   "outputs": [
    {
     "data": {
      "image/png": "[encoded data removed]",
      "text/plain": [
       "<matplotlib.figure.Figure at 0x289ea1d5ac8>"
      ]
     },
     "metadata": {},
     "output_type": "display_data"
    }
   ],
   "source": [
    "from sklearn.model_selection import cross_val_score\n",
    "models = getModels()\n",
    "results[\"Cross_Validation\"] = {}\n",
    "for model in models.keys():\n",
    "    results[\"Cross_Validation\"][model] = np.mean(cross_val_score(models[model], x, y, cv=10))\n",
    "\n",
    "import matplotlib.pyplot as plt\n",
    "plt.bar(range(len(results[\"Cross_Validation\"])), list(results[\"Cross_Validation\"].values()))\n",
    "plt.xticks(range(len(results[\"Cross_Validation\"])), list(results[\"Cross_Validation\"].keys()))\n",
    "plt.show()"
   ]
  },
  {
   "cell_type": "markdown",
   "metadata": {},
   "source": [
    "## Bootstrap"
   ]
  },
  {
   "cell_type": "code",
   "execution_count": 7,
   "metadata": {},
   "outputs": [],
   "source": [
    "from sklearn.model_selection import ShuffleSplit\n",
    "\n",
    "def bootstrap(model):\n",
    "    \n",
    "    perf = []\n",
    "    rs = ShuffleSplit(n_splits=5, test_size=.20, random_state=0)\n",
    "    for train_index, test_index in rs.split(x):\n",
    "        xTrain, xTest = x[train_index],  x[test_index]\n",
    "        yTrain, yTest = y[train_index], y[test_index]\n",
    "\n",
    "\n",
    "        model.fit(xTrain, yTrain)\n",
    "        perf.append(model.score(xTest, yTest))\n",
    "    return np.mean(perf)"
   ]
  },
  {
   "cell_type": "code",
   "execution_count": 8,
   "metadata": {},
   "outputs": [
    {
     "data": {
      "image/png": "[encoded data removed]",
      "text/plain": [
       "<matplotlib.figure.Figure at 0x289e4e13e48>"
      ]
     },
     "metadata": {},
     "output_type": "display_data"
    }
   ],
   "source": [
    "models = getModels()\n",
    "results[\"Bootstrap\"] = {}\n",
    "\n",
    "for i in range(10):\n",
    "    for model in models.keys():\n",
    "        if(model not in results[\"Bootstrap\"]):\n",
    "            results[\"Bootstrap\"][model] = 0\n",
    "        results[\"Bootstrap\"][model] += bootstrap(models[model])*0.1\n",
    "\n",
    "\n",
    "import matplotlib.pyplot as plt\n",
    "plt.bar(range(len(results[\"Bootstrap\"])), list(results[\"Bootstrap\"].values()))\n",
    "plt.xticks(range(len(results[\"Bootstrap\"])), list(results[\"Bootstrap\"].keys()))\n",
    "plt.show()"
   ]
  },
  {
   "cell_type": "markdown",
   "metadata": {},
   "source": [
    "## Cross Validation"
   ]
  },
  {
   "cell_type": "code",
   "execution_count": 9,
   "metadata": {
    "collapsed": true
   },
   "outputs": [],
   "source": [
    "from sklearn.model_selection import train_test_split\n",
    "def CrossValidation(model):\n",
    "    xTrain, xTest, yTrain, yTest = train_test_split(x, y, test_size=0.30)\n",
    "    model.fit(xTrain, yTrain)\n",
    "    return np.mean(model.score(xTest, yTest))"
   ]
  },
  {
   "cell_type": "code",
   "execution_count": 10,
   "metadata": {},
   "outputs": [
    {
     "data": {
      "image/png": "[encoded data removed]",
      "text/plain": [
       "<matplotlib.figure.Figure at 0x289e2bd1dd8>"
      ]
     },
     "metadata": {},
     "output_type": "display_data"
    }
   ],
   "source": [
    "models = getModels()\n",
    "results[\"Cross_Validation_Random\"] = {}\n",
    "\n",
    "for i in range(10):\n",
    "    for model in models.keys():\n",
    "        if(model not in results[\"Cross_Validation_Random\"]):\n",
    "            results[\"Cross_Validation_Random\"][model] = 0\n",
    "        results[\"Cross_Validation_Random\"][model] += CrossValidation(models[model])*0.1\n",
    "\n",
    "\n",
    "import matplotlib.pyplot as plt\n",
    "plt.bar(range(len(results[\"Cross_Validation_Random\"])), list(results[\"Cross_Validation_Random\"].values()))\n",
    "plt.xticks(range(len(results[\"Cross_Validation_Random\"])), list(results[\"Cross_Validation_Random\"].keys()))\n",
    "plt.show()"
   ]
  },
  {
   "cell_type": "markdown",
   "metadata": {},
   "source": [
    "## Results"
   ]
  },
  {
   "cell_type": "code",
   "execution_count": 11,
   "metadata": {},
   "outputs": [
    {
     "data": {
      "image/png": "[encoded data removed]",
      "text/plain": [
       "<matplotlib.figure.Figure at 0x289ea3a1438>"
      ]
     },
     "metadata": {},
     "output_type": "display_data"
    }
   ],
   "source": [
    "n_groups = len(results[\"Cross_Validation_Random\"])\n",
    "index = np.arange(n_groups)\n",
    "bar_width = 0.15\n",
    "plt.rcParams[\"figure.figsize\"][0] = 18\n",
    "plt.rcParams[\"figure.figsize\"][1] = 12\n",
    "keys = list(results.keys())\n",
    "for i in range(len(keys)):\n",
    "    experiment = keys[i]\n",
    "    bar = plt.bar(index+(bar_width*i), list(results[experiment].values()), bar_width, label=experiment)\n",
    "plt.xticks(index+bar_width, list(results[\"Cross_Validation_Random\"].keys()))\n",
    "plt.xlabel(\"Model\")\n",
    "plt.ylabel(\"Accuracy\")\n",
    "plt.title(\"Model Performance\")\n",
    "plt.tight_layout()\n",
    "plt.legend()\n",
    "plt.show()\n",
    "    "
   ]
  },
  {
   "cell_type": "markdown",
   "metadata": {},
   "source": [
    "## Interpretation\n",
    "\n",
    "In most validation strategies the reported performance of every model was similar, except from when using 10 fold cross validation, which reported considerably worse performance in 3 out of 4 models (most notable in the KNN model).\n"
   ]
  }
 ],
 "metadata": {
  "kernelspec": {
   "display_name": "Python 3",
   "language": "python",
   "name": "python3"
  },
  "language_info": {
   "codemirror_mode": {
    "name": "ipython",
    "version": 3
   },
   "file_extension": ".py",
   "mimetype": "text/x-python",
   "name": "python",
   "nbconvert_exporter": "python",
   "pygments_lexer": "ipython3",
   "version": "3.6.3"
  }
 },
 "nbformat": 4,
 "nbformat_minor": 2
}
